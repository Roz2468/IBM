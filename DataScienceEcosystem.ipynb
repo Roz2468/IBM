{
 "cells": [
  {
   "cell_type": "markdown",
   "id": "0ef0f5c6-f5cc-4b19-a698-6b75d88e2b0b",
   "metadata": {},
   "source": [
    "# Data Science Tools and Ecosystem"
   ]
  },
  {
   "cell_type": "markdown",
   "id": "993ca721-3f13-4ceb-bd6b-b4d5117420ec",
   "metadata": {},
   "source": [
    "In this notebook, Data Science Tools and Ecosystem are summarized\n",
    "**In this notebook, Data Science Tools and Ecosystem are summarized**\n",
    "*In this notebook, Data Science Tools and Ecosystem are summarized*"
   ]
  },
  {
   "cell_type": "markdown",
   "id": "e346ba75-bee9-4369-9f0e-62dd4eeab3ea",
   "metadata": {},
   "source": [
    "***Some of the popular languages that Data Scientists use are:***\n",
    "1. Python\n",
    "2. R/Rstudio\n",
    "3. SQL\n",
    "4. Java\n",
    "5. C++/C\n"
   ]
  },
  {
   "cell_type": "markdown",
   "id": "d0166e9e-126b-41fb-a245-1c84964d218b",
   "metadata": {},
   "source": [
    "***Some of the commonly used libraries used by Data Scientists include:***\n",
    "1. NumPy\n",
    "2. Keras\n",
    "3. Pandas\n",
    "4. PyTorch\n",
    "5. SciPy\n",
    "6. Scikit-Learn"
   ]
  },
  {
   "cell_type": "markdown",
   "id": "1939aec1-253a-46ce-ae14-e142a459a0e7",
   "metadata": {},
   "source": [
    "| Number | Data Science Tool|\n",
    "|--------|------------------|\n",
    "| 1 | Jupyter Notebook |\n",
    "| 2 | Google Collaborations |\n",
    "| 3 | R Studio|\n",
    "| 4 | Apache Spark|\n",
    "| 5 | Apache Hadoop|"
   ]
  },
  {
   "cell_type": "markdown",
   "id": "c2de10d9-942e-4e8d-91c1-75bc0566835c",
   "metadata": {},
   "source": [
    "### Below are a few examples of evaluating arithmetic expressions in Python"
   ]
  },
  {
   "cell_type": "code",
   "execution_count": 2,
   "id": "a2e79821-a5cb-43c4-ba77-0757014769b5",
   "metadata": {
    "tags": []
   },
   "outputs": [],
   "source": [
    "# This a simple arithmetic expression to mutiply then add integers"
   ]
  },
  {
   "cell_type": "code",
   "execution_count": 3,
   "id": "c94a4e65-daa0-4e3e-8b3a-4ee9a70a4982",
   "metadata": {
    "tags": []
   },
   "outputs": [
    {
     "data": {
      "text/plain": [
       "17"
      ]
     },
     "execution_count": 3,
     "metadata": {},
     "output_type": "execute_result"
    }
   ],
   "source": [
    "(3*4)+5"
   ]
  },
  {
   "cell_type": "code",
   "execution_count": 4,
   "id": "c6879ba4-6c66-4884-b1b4-1236fd035d01",
   "metadata": {
    "tags": []
   },
   "outputs": [],
   "source": [
    "# This will convert 200 minutes to hours by diving by 60"
   ]
  },
  {
   "cell_type": "code",
   "execution_count": 5,
   "id": "8937c3f1-b2d6-4574-9607-c9521448667d",
   "metadata": {
    "tags": []
   },
   "outputs": [
    {
     "name": "stdout",
     "output_type": "stream",
     "text": [
      "3.3333333333333335\n"
     ]
    }
   ],
   "source": [
    "hours = 200/60\n",
    "print(hours)"
   ]
  },
  {
   "cell_type": "markdown",
   "id": "80219042-1693-4881-b38b-bd92f8ac1a1d",
   "metadata": {},
   "source": [
    "+ Printing headers using markdown files\n",
    "+ List open environment data science tools \n",
    "+ Simple arithmetic using python and R Studio\n",
    "+ Plotting using R Studio\n",
    "+ Using Git Hub"
   ]
  },
  {
   "cell_type": "markdown",
   "id": "be1602f2-1e4e-48a2-9e4f-2f8da660470c",
   "metadata": {},
   "source": [
    "## Author\n",
    "***Ross Cunningham***"
   ]
  },
  {
   "cell_type": "code",
   "execution_count": null,
   "id": "5d37d347-bcae-4399-834b-3afc91e5c120",
   "metadata": {},
   "outputs": [],
   "source": []
  }
 ],
 "metadata": {
  "kernelspec": {
   "display_name": "Python 3 (ipykernel)",
   "language": "python",
   "name": "python3"
  },
  "language_info": {
   "codemirror_mode": {
    "name": "ipython",
    "version": 3
   },
   "file_extension": ".py",
   "mimetype": "text/x-python",
   "name": "python",
   "nbconvert_exporter": "python",
   "pygments_lexer": "ipython3",
   "version": "3.11.5"
  }
 },
 "nbformat": 4,
 "nbformat_minor": 5
}
